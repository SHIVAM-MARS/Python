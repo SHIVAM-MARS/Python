{
 "cells": [
  {
   "cell_type": "markdown",
   "metadata": {},
   "source": [
    "## Numpy\n"
   ]
  },
  {
   "cell_type": "markdown",
   "metadata": {},
   "source": [
    "### Revisiting Python List\n",
    "\n",
    "A python List can be used to store a group of elements together in a sequence. It can contain hetrogeneous elements.\n",
    "\n",
    "Following are some examples of List:\n"
   ]
  },
  {
   "cell_type": "code",
   "execution_count": 1,
   "metadata": {},
   "outputs": [],
   "source": [
    "item_list = ['Bread','Milk','Eggs','Butter','Cocoa']\n",
    "student_marks = [78,47,96,55,34]\n",
    "hetero_list = [1, 2, 3.0, 'text', True, 3+2j]"
   ]
  },
  {
   "cell_type": "markdown",
   "metadata": {},
   "source": [
    "To perform operations on the List elements, one needs to iterate through the List. For example, if five extra marks need to be awarded to all the entries in the student marks list. The following approach can be used to achieve the same:\n"
   ]
  },
  {
   "cell_type": "code",
   "execution_count": 2,
   "metadata": {},
   "outputs": [
    {
     "name": "stdout",
     "output_type": "stream",
     "text": [
      "[83, 52, 101, 60, 39]\n"
     ]
    }
   ],
   "source": [
    "student_marks = [78,47,96,55,34]\n",
    "for i in range(len(student_marks)):\n",
    "    student_marks[i]+=5\n",
    "print(student_marks)"
   ]
  },
  {
   "cell_type": "markdown",
   "metadata": {},
   "source": [
    "It can be observed that, there is use of a loop. The code is lengthy and becomes computationally expensive with increase in the size of the List.\n",
    "\n",
    "Data Science is the field that utilizes scientific methods and algorithms to generate insights from the data. These insights can be made actionable and applied across a broad range of application domains. Data Science deals with large datasets. Operating on such data with lists and loops is time consuming and computationally expensive.\n"
   ]
  },
  {
   "cell_type": "markdown",
   "metadata": {},
   "source": [
    "### Comparing Python List and Numpy performance\n"
   ]
  },
  {
   "cell_type": "markdown",
   "metadata": {},
   "source": [
    "Let us understand why Python Lists can become a bottleneck if they are used for large data.\n",
    "\n",
    "Consider that 1 million numbers must be added from two different lists.\n"
   ]
  },
  {
   "cell_type": "code",
   "execution_count": 3,
   "metadata": {},
   "outputs": [
    {
     "name": "stdout",
     "output_type": "stream",
     "text": [
      "CPU times: total: 46.9 ms\n",
      "Wall time: 199 ms\n"
     ]
    }
   ],
   "source": [
    "%%time\n",
    "\n",
    "list1 = list(range(1,1000000))\n",
    "list2 = list(range(2,1000001))\n",
    "\n",
    "list3 =[]\n",
    "\n",
    "for i in range(len(list1)):\n",
    "    list3.append(list1[i] + list2[i])"
   ]
  },
  {
   "cell_type": "markdown",
   "metadata": {},
   "source": [
    "<b>Note:</b> Time taken will be different systems\n",
    "\n",
    "Let us understand, how Numpy can solve the same in minimal time\n",
    "\n",
    "<b>Note: Ignore the syntax and focus on the only the output.</b>\n"
   ]
  },
  {
   "cell_type": "code",
   "execution_count": 13,
   "metadata": {},
   "outputs": [
    {
     "name": "stdout",
     "output_type": "stream",
     "text": [
      "CPU times: total: 0 ns\n",
      "Wall time: 19.7 ms\n"
     ]
    }
   ],
   "source": [
    "%%time\n",
    "\n",
    "import numpy as np\n",
    "\n",
    "a = np.arange(1,1000000)\n",
    "b = np.arange(2,1000001)\n",
    "\n",
    "c = a + b"
   ]
  },
  {
   "cell_type": "markdown",
   "metadata": {},
   "source": [
    "It can be observed that the same operation has been complete in 19.7 milliseconds when compared to 199 milliseconds taken by Python List. As the data size and the complexity of operations increases, the difference between the performance of Numpy and Python Lists broadens.\n",
    "\n",
    "In Data Science, there are millions of records to be dealt with. The performance limitations faced by using Python. List can be managed by usage of advanced Python libraries like Numpy.\n"
   ]
  },
  {
   "cell_type": "markdown",
   "metadata": {},
   "source": [
    "### Introduction to Numpy\n"
   ]
  },
  {
   "cell_type": "markdown",
   "metadata": {},
   "source": [
    "Numeric-Python (Numpy), is a Python library that is used for numeric and scientific operations. It serves as a building block for many libraries available in Python.\n",
    "\n",
    "#### Data Structures in Numpy\n",
    "\n",
    "The main data structure of NumPy is the ndarray or n-dimensional array.\n",
    "\n",
    "The ndarray is a multidimensional container of elements of the same type as depicted below. It can easily deal with matrix and vector operations.\n",
    "\n",
    "<img src=\"assests/Array1627301877492.png\">\n"
   ]
  },
  {
   "cell_type": "markdown",
   "metadata": {},
   "source": [
    "Following are the benefits of using Numpy\n",
    "\n",
    "<ul>\n",
    "    <li>As the array increases, Numpy can execute more parallel operations, therebymaking computation faster. When the array size gets close to 5,000,000, NumPy gets around 120 times faster than Python List.</li>\n",
    "    <li>NumPy has many optimized built-in mathematical functions. These functions helps in performing variety of complex mathematical computations faster and with very minimal code.</li>\n",
    "    <li>Another great feature of NumPy is that it has multidimensional array data structures that can represent vectors and matrices. This can be useful as lot of machine learning algorithms rely on matrix operations.</li>\n",
    "</ul>\n"
   ]
  },
  {
   "cell_type": "markdown",
   "metadata": {},
   "source": [
    "### Getting Started\n"
   ]
  },
  {
   "cell_type": "markdown",
   "metadata": {},
   "source": [
    "#### Importing Numpy\n",
    "\n",
    "Numpy library needs to be imported in the environment before it can be used as shown below. 'np' is the standard alias used for Numpy\n"
   ]
  },
  {
   "cell_type": "code",
   "execution_count": 1,
   "metadata": {},
   "outputs": [],
   "source": [
    "import numpy as np"
   ]
  },
  {
   "cell_type": "markdown",
   "metadata": {},
   "source": [
    "#### Numpy object creation\n",
    "\n",
    "Numpy array can be created by using array() function. The array() function in Numpy return an array object named ndarray.\n",
    "\n",
    "<b>Syntax: np.array(object,dtype)</b>\n",
    "object - A python object(for example, a list)\n",
    "dtype - data type of object (for example, integer)\n",
    "\n",
    "Example: Consider the following marks scored by students:\n",
    "\n",
    "<table>\n",
    "    <tr>\n",
    "        <th>Student ID</th>\n",
    "        <th>Marks</th>\n",
    "    </tr>\n",
    "    <tr>\n",
    "        <td>1</td>\n",
    "        <td>78</td>\n",
    "    </tr>\n",
    "    <tr>\n",
    "        <td>2</td>\n",
    "        <td>92</td>\n",
    "    </tr>\n",
    "    <tr>\n",
    "        <td>3</td>\n",
    "        <td>36</td>\n",
    "    </tr>\n",
    "    <tr>\n",
    "        <td>4</td>\n",
    "        <td>64</td>\n",
    "    </tr>\n",
    "    <tr>\n",
    "        <td>5</td>\n",
    "        <td>89</td>\n",
    "    </tr>\n",
    "</table>\n",
    "\n",
    "These marks can be represented in one-dimensional Numpy array as shown below:\n"
   ]
  },
  {
   "cell_type": "code",
   "execution_count": 2,
   "metadata": {},
   "outputs": [
    {
     "data": {
      "text/plain": [
       "array([78, 92, 36, 64, 89])"
      ]
     },
     "execution_count": 2,
     "metadata": {},
     "output_type": "execute_result"
    }
   ],
   "source": [
    "import numpy as np\n",
    "student_marks_arr = np.array([78, 92, 36, 64, 89])\n",
    "student_marks_arr"
   ]
  },
  {
   "cell_type": "markdown",
   "metadata": {},
   "source": [
    "This is one way to create a simple one-dimensional array.\n"
   ]
  },
  {
   "cell_type": "markdown",
   "metadata": {},
   "source": [
    "### Numpy object creation demo 1D array\n",
    "\n",
    "The following dataset has been provided by XYZ Customer Cars. This data comes in a csv file format.\n",
    "<img src=\"assests/11627367976870.PNG\">\n"
   ]
  },
  {
   "cell_type": "markdown",
   "metadata": {},
   "source": [
    "There are various columns in this datasheet. Each column contains multiple values. These values can be represented as lists of items. Since each column contains homogenous values, Numpy arrays can be used to represent them.\n",
    "\n",
    "Let us understand, how to represent the car 'horsepower' values in a Numpy array.\n"
   ]
  },
  {
   "cell_type": "code",
   "execution_count": 3,
   "metadata": {},
   "outputs": [
    {
     "data": {
      "text/plain": [
       "array([130, 165, 150, 150, 140])"
      ]
     },
     "execution_count": 3,
     "metadata": {},
     "output_type": "execute_result"
    }
   ],
   "source": [
    "#creating a list of 5 horsepower values\n",
    "horsepower = [130, 165, 150, 150, 140]\n",
    "#creating a numpy array from horsepower list\n",
    "horsepower_arr = np.array(horsepower)\n",
    "horsepower_arr"
   ]
  },
  {
   "cell_type": "markdown",
   "metadata": {},
   "source": [
    "### Numpy object creation demo - 2D array\n",
    "\n",
    "#### How can multiple columns be represented together?\n",
    "\n",
    "This can be achieved by creating the Numpy array from List of Lists.\n",
    "\n",
    "Let us understand, how to represent the car 'mpg', 'horsepower', and 'acceleration' values in a Numpy array.\n"
   ]
  },
  {
   "cell_type": "code",
   "execution_count": 5,
   "metadata": {},
   "outputs": [
    {
     "data": {
      "text/plain": [
       "array([[ 18,  15,  18,  16,  17],\n",
       "       [130, 165, 150, 150, 140],\n",
       "       [307, 350, 318, 304, 302]])"
      ]
     },
     "execution_count": 5,
     "metadata": {},
     "output_type": "execute_result"
    }
   ],
   "source": [
    "#creating a list of lists of 5 mpg, horsepower and acceleration values\n",
    "car_attributes = [[18, 15, 18, 16, 17],[130, 165, 150, 150, 140],[307, 350, 318, 304, 302]]\n",
    "#creating a numpy array from car_attributes list\n",
    "car_attributes_arr = np.array(car_attributes)\n",
    "car_attributes_arr"
   ]
  },
  {
   "cell_type": "markdown",
   "metadata": {},
   "source": [
    "The example demonstrates that the Numpy array created using the List of Lists results in a two-dimensional array.\n"
   ]
  },
  {
   "cell_type": "markdown",
   "metadata": {},
   "source": [
    "### Shape of ndarray\n",
    "\n",
    "The <b>numpy.ndarray.shape</b> returns a tuple that describes the shape of the array.\n",
    "\n",
    "For example:\n",
    "\n",
    "<ul>\n",
    "    <li>a one-dimensional array having 10 elements will have a shape as (10,)</li>\n",
    "    <li>a two-dimensional array having 10 elements distributed evenly in two rows will have a shape as (2,5)</li>\n",
    "</ul>\n",
    "\n",
    "Let us comprehend, how to find out the shape of car attributes array.\n"
   ]
  },
  {
   "cell_type": "code",
   "execution_count": 7,
   "metadata": {},
   "outputs": [
    {
     "data": {
      "text/plain": [
       "(3, 5)"
      ]
     },
     "execution_count": 7,
     "metadata": {},
     "output_type": "execute_result"
    }
   ],
   "source": [
    "#creating a list of lists of  mpg, horsepower and acceleration values\n",
    "car_attributes = [[18, 15, 18, 16, 17],[130, 165, 150, 150, 140],[307, 350, 318, 304, 302]]\n",
    "#creating a numpy array from attributes list\n",
    "car_attributes_arr = np.array(car_attributes)\n",
    "car_attributes_arr.shape"
   ]
  },
  {
   "cell_type": "markdown",
   "metadata": {},
   "source": [
    "Here, 3 represents the number of rows and 5 represents the number of elements in each row.\n"
   ]
  },
  {
   "cell_type": "markdown",
   "metadata": {},
   "source": [
    "### 'dtype' of ndarray\n",
    "\n",
    "<b>'dtype'</b> refers to the data type of the data contained by the array. Numpy supports multiple datatypes like integer, float, string, boolean etc.\n",
    "\n",
    "Below is an example of using dtype property to identify the data type of elements in an array.\n"
   ]
  },
  {
   "cell_type": "code",
   "execution_count": 8,
   "metadata": {},
   "outputs": [
    {
     "data": {
      "text/plain": [
       "dtype('int32')"
      ]
     },
     "execution_count": 8,
     "metadata": {},
     "output_type": "execute_result"
    }
   ],
   "source": [
    "#creating a list of lists of 5 mpg, horsepower and acceleration values\n",
    "car_attributes = [[18, 15, 18, 16, 17],[130, 165, 150, 150, 140],[307, 350, 318, 304, 302]]\n",
    "#creating a numpy array from attributes list\n",
    "car_attributes_arr = np.array(car_attributes)\n",
    "car_attributes_arr.dtype"
   ]
  },
  {
   "cell_type": "markdown",
   "metadata": {},
   "source": [
    "#### Changing dtype\n",
    "\n",
    "Numpy dtype can be changed as per requirements. For example, an array of integers can be converted to float.\n",
    "\n",
    "Below is an example of using dtype as an argument of np.array() function to convert the data type of elements from integer to float.\n"
   ]
  },
  {
   "cell_type": "code",
   "execution_count": 9,
   "metadata": {},
   "outputs": [
    {
     "name": "stdout",
     "output_type": "stream",
     "text": [
      "[[ 18.  15.  18.  16.  17.]\n",
      " [130. 165. 150. 150. 140.]\n",
      " [307. 350. 318. 304. 302.]]\n",
      "float64\n"
     ]
    }
   ],
   "source": [
    "#creating a list of lists of 5 mpg, horsepower and acceleration values\n",
    "car_attributes = [[18, 15, 18, 16, 17],[130, 165, 150, 150, 140],[307, 350, 318, 304, 302]]\n",
    "#converting dtype\n",
    "car_attributes_arr = np.array(car_attributes, dtype = 'float')\n",
    "print(car_attributes_arr)\n",
    "print(car_attributes_arr.dtype)"
   ]
  },
  {
   "cell_type": "markdown",
   "metadata": {},
   "source": [
    "## Operations on Numpy arrays\n",
    "\n",
    "### Accessing Numpy arrays\n",
    "\n",
    "The elements in the ndarray are accessed using index within the square brackets[]. In Numpy, both positive and negative indices can be used to access elements in the ndarray. Positive indices start from the begining of the array, while negative indices start from the end of the array. Array indexing starts from 0 in positive indexing and from -1 in negative indexing.\n",
    "\n",
    "<img src=\"assests/MicrosoftTeamsimage61627560454959.png\">\n",
    "\n",
    "Below are some examples of accessing data from numpy arrays:\n",
    "\n",
    "#### 1. Accessing element from 1D array\n"
   ]
  },
  {
   "cell_type": "code",
   "execution_count": 10,
   "metadata": {},
   "outputs": [
    {
     "data": {
      "text/plain": [
       "'buick skylark 320'"
      ]
     },
     "execution_count": 10,
     "metadata": {},
     "output_type": "execute_result"
    }
   ],
   "source": [
    "#creating an array of cars\n",
    "cars = np.array(['chevrolet chevelle malibu', 'buick skylark 320', 'plymouth satellite', 'amc rebel sst', 'ford torino'])\n",
    "#accessing the second car from the array\n",
    "cars[1]"
   ]
  },
  {
   "cell_type": "markdown",
   "metadata": {},
   "source": [
    "#### 2. Accessing element form a 2D array\n"
   ]
  },
  {
   "cell_type": "code",
   "execution_count": 11,
   "metadata": {},
   "outputs": [
    {
     "data": {
      "text/plain": [
       "array([['chevrolet chevelle malibu', 'buick skylark 320',\n",
       "        'plymouth satellite', 'amc rebel sst', 'ford torino'],\n",
       "       ['130', '165', '150', '150', '140']], dtype='<U25')"
      ]
     },
     "execution_count": 11,
     "metadata": {},
     "output_type": "execute_result"
    }
   ],
   "source": [
    "#Creating a 2D array consisting car names and horsepower\n",
    "car_names = ['chevrolet chevelle malibu', 'buick skylark 320', 'plymouth satellite', 'amc rebel sst', 'ford torino']\n",
    "horsepower = [130, 165, 150, 150, 140]\n",
    "car_hp_arr = np.array([car_names, horsepower])\n",
    "car_hp_arr"
   ]
  },
  {
   "cell_type": "code",
   "execution_count": 12,
   "metadata": {},
   "outputs": [
    {
     "data": {
      "text/plain": [
       "array(['chevrolet chevelle malibu', 'buick skylark 320',\n",
       "       'plymouth satellite', 'amc rebel sst', 'ford torino'], dtype='<U25')"
      ]
     },
     "execution_count": 12,
     "metadata": {},
     "output_type": "execute_result"
    }
   ],
   "source": [
    "#Creating a 2D array consisting car names and horsepower\n",
    "car_names = ['chevrolet chevelle malibu', 'buick skylark 320', 'plymouth satellite', 'amc rebel sst', 'ford torino']\n",
    "horsepower = [130, 165, 150, 150, 140]\n",
    "car_hp_arr = np.array([car_names, horsepower])\n",
    "#Accessing car names\n",
    "car_hp_arr[0]"
   ]
  },
  {
   "cell_type": "code",
   "execution_count": 13,
   "metadata": {},
   "outputs": [
    {
     "data": {
      "text/plain": [
       "array(['130', '165', '150', '150', '140'], dtype='<U25')"
      ]
     },
     "execution_count": 13,
     "metadata": {},
     "output_type": "execute_result"
    }
   ],
   "source": [
    "#Creating a 2D array consisting car names and horsepower\n",
    "car_names = ['chevrolet chevelle malibu', 'buick skylark 320', 'plymouth satellite', 'amc rebel sst', 'ford torino']\n",
    "horsepower = [130, 165, 150, 150, 140]\n",
    "car_hp_arr = np.array([car_names, horsepower])\n",
    "#Accessing horsepower\n",
    "car_hp_arr[1]"
   ]
  },
  {
   "cell_type": "code",
   "execution_count": 14,
   "metadata": {},
   "outputs": [
    {
     "data": {
      "text/plain": [
       "'buick skylark 320'"
      ]
     },
     "execution_count": 14,
     "metadata": {},
     "output_type": "execute_result"
    }
   ],
   "source": [
    "#Creating a 2D array consisting car names and horsepower\n",
    "car_names = ['chevrolet chevelle malibu', 'buick skylark 320', 'plymouth satellite', 'amc rebel sst', 'ford torino']\n",
    "horsepower = [130, 165, 150, 150, 140]\n",
    "car_hp_arr = np.array([car_names, horsepower])\n",
    "#Accessing second car - 0 represents 1st row and 1 represents 2nd element of the row\n",
    "car_hp_arr[0,1]"
   ]
  },
  {
   "cell_type": "code",
   "execution_count": 15,
   "metadata": {},
   "outputs": [
    {
     "data": {
      "text/plain": [
       "'ford torino'"
      ]
     },
     "execution_count": 15,
     "metadata": {},
     "output_type": "execute_result"
    }
   ],
   "source": [
    "#Creating a 2D array consisting car names and horsepower\n",
    "car_names = ['chevrolet chevelle malibu', 'buick skylark 320', 'plymouth satellite', 'amc rebel sst', 'ford torino']\n",
    "horsepower = [130, 165, 150, 150, 140]\n",
    "car_hp_arr = np.array([car_names, horsepower])\n",
    "#Accessing name of last car using negative indexing\n",
    "car_hp_arr[0,-1]"
   ]
  },
  {
   "cell_type": "markdown",
   "metadata": {},
   "source": [
    "### Slicing\n",
    "\n",
    "Slicing is a way to access and obtain subsets of ndarray in Numpy.\n",
    "\n",
    "<b>Syntax: array_name[start:end]</b> - index starts at 'start' and ends at 'end-1'.\n",
    "\n",
    "#### 1. Slicing from 1D array\n"
   ]
  },
  {
   "cell_type": "code",
   "execution_count": 16,
   "metadata": {},
   "outputs": [
    {
     "data": {
      "text/plain": [
       "array(['buick skylark 320', 'plymouth satellite', 'amc rebel sst'],\n",
       "      dtype='<U25')"
      ]
     },
     "execution_count": 16,
     "metadata": {},
     "output_type": "execute_result"
    }
   ],
   "source": [
    "#creating an array of cars\n",
    "cars = np.array(['chevrolet chevelle malibu', 'buick skylark 320', 'plymouth satellite', 'amc rebel sst', 'ford torino'])\n",
    "#accessing a subset of cars from the array\n",
    "cars[1:4]"
   ]
  },
  {
   "cell_type": "markdown",
   "metadata": {},
   "source": [
    "#### 2. SLicing from 2D array\n"
   ]
  },
  {
   "cell_type": "code",
   "execution_count": 17,
   "metadata": {},
   "outputs": [
    {
     "data": {
      "text/plain": [
       "array([['chevrolet chevelle malibu', 'buick skylark 320',\n",
       "        'plymouth satellite', 'amc rebel sst', 'ford torino'],\n",
       "       ['130', '165', '150', '150', '140'],\n",
       "       ['18', '15', '18', '16', '17']], dtype='<U25')"
      ]
     },
     "execution_count": 17,
     "metadata": {},
     "output_type": "execute_result"
    }
   ],
   "source": [
    "#Creating a 2D array consisting car names, horsepower and acceleration\n",
    "car_names = ['chevrolet chevelle malibu', 'buick skylark 320', 'plymouth satellite', 'amc rebel sst', 'ford torino']\n",
    "horsepower = [130, 165, 150, 150, 140]\n",
    "acceleration = [18, 15, 18, 16, 17]\n",
    "car_hp_acc_arr = np.array([car_names, horsepower, acceleration])\n",
    "car_hp_acc_arr"
   ]
  },
  {
   "cell_type": "code",
   "execution_count": 18,
   "metadata": {},
   "outputs": [
    {
     "data": {
      "text/plain": [
       "array([['chevrolet chevelle malibu', 'buick skylark 320',\n",
       "        'plymouth satellite', 'amc rebel sst', 'ford torino'],\n",
       "       ['130', '165', '150', '150', '140']], dtype='<U25')"
      ]
     },
     "execution_count": 18,
     "metadata": {},
     "output_type": "execute_result"
    }
   ],
   "source": [
    "#Creating a 2D array consisting car names, horsepower and acceleration\n",
    "car_names = ['chevrolet chevelle malibu', 'buick skylark 320', 'plymouth satellite', 'amc rebel sst', 'ford torino']\n",
    "horsepower = [130, 165, 150, 150, 140]\n",
    "acceleration = [18, 15, 18, 16, 17]\n",
    "car_hp_acc_arr = np.array([car_names, horsepower, acceleration])\n",
    "#Accessing name and horsepower \n",
    "car_hp_acc_arr[0:2]"
   ]
  },
  {
   "cell_type": "code",
   "execution_count": 19,
   "metadata": {},
   "outputs": [
    {
     "data": {
      "text/plain": [
       "array([['amc rebel sst', 'ford torino'],\n",
       "       ['150', '140']], dtype='<U25')"
      ]
     },
     "execution_count": 19,
     "metadata": {},
     "output_type": "execute_result"
    }
   ],
   "source": [
    "#Creating a 2D array consisting car names, horsepower and acceleration\n",
    "car_names = ['chevrolet chevelle malibu', 'buick skylark 320', 'plymouth satellite', 'amc rebel sst', 'ford torino']\n",
    "horsepower = [130, 165, 150, 150, 140]\n",
    "acceleration = [18, 15, 18, 16, 17]\n",
    "car_hp_acc_arr = np.array([car_names, horsepower, acceleration])\n",
    "#Accessing name and horsepower of last two cars \n",
    "car_hp_acc_arr[0:2, 3:5]"
   ]
  },
  {
   "cell_type": "code",
   "execution_count": 20,
   "metadata": {},
   "outputs": [
    {
     "data": {
      "text/plain": [
       "array([['chevrolet chevelle malibu', 'buick skylark 320',\n",
       "        'plymouth satellite'],\n",
       "       ['130', '165', '150'],\n",
       "       ['18', '15', '18']], dtype='<U25')"
      ]
     },
     "execution_count": 20,
     "metadata": {},
     "output_type": "execute_result"
    }
   ],
   "source": [
    "#Creating a 2D array consisting car names, horsepower and acceleration\n",
    "car_names = ['chevrolet chevelle malibu', 'buick skylark 320', 'plymouth satellite', 'amc rebel sst', 'ford torino']\n",
    "horsepower = [130, 165, 150, 150, 140]\n",
    "acceleration = [18, 15, 18, 16, 17]\n",
    "car_hp_acc_arr = np.array([car_names, horsepower, acceleration])\n",
    "#Accessing name, horsepower and acceleration of first three cars\n",
    "car_hp_acc_arr[0:3, 0:3]"
   ]
  },
  {
   "cell_type": "markdown",
   "metadata": {},
   "source": [
    "### Mean and Median\n",
    "\n",
    "#### Problem Statement:\n",
    "\n",
    "The engineers at XYZ Custom Cars want to know about the mean and median of horsepower.\n",
    "\n",
    "#### Solution:\n",
    "\n",
    "The mean and median can be calculated with the help of following code:\n"
   ]
  },
  {
   "cell_type": "code",
   "execution_count": 22,
   "metadata": {},
   "outputs": [
    {
     "name": "stdout",
     "output_type": "stream",
     "text": [
      "Mean horsepower =  147.0\n",
      "CPU times: total: 0 ns\n",
      "Wall time: 0 ns\n"
     ]
    }
   ],
   "source": [
    "%%time\n",
    "\n",
    "#creating a list of 5 horsepower values\n",
    "horsepower = [130, 165, 150, 150, 140]\n",
    "#creating a numpy array from horsepower list\n",
    "horsepower_arr = np.array(horsepower)\n",
    "#mean horsepower\n",
    "print(\"Mean horsepower = \",np.mean(horsepower_arr))"
   ]
  },
  {
   "cell_type": "code",
   "execution_count": 24,
   "metadata": {},
   "outputs": [
    {
     "name": "stdout",
     "output_type": "stream",
     "text": [
      "Median horsepower =  150.0\n",
      "CPU times: total: 0 ns\n",
      "Wall time: 195 μs\n"
     ]
    }
   ],
   "source": [
    "%%time\n",
    "\n",
    "#creating a list of 5 horsepower values\n",
    "horsepower = [130, 165, 150, 150, 140]\n",
    "#creating a numpy array from horsepower list\n",
    "horsepower_arr = np.array(horsepower)\n",
    "#median horsepower\n",
    "print(\"Median horsepower = \",np.median(horsepower_arr))"
   ]
  },
  {
   "cell_type": "markdown",
   "metadata": {},
   "source": [
    "### Min and Max\n",
    "\n",
    "#### Problem Statement:\n",
    "\n",
    "The engineers at XYZ Custom Cars want to know about the minimal and maximum horsepower.\n",
    "\n",
    "#### Solution:\n",
    "\n",
    "The min and max can be calculated with the help of following code:\n"
   ]
  },
  {
   "cell_type": "code",
   "execution_count": 26,
   "metadata": {},
   "outputs": [
    {
     "name": "stdout",
     "output_type": "stream",
     "text": [
      "Minimum horsepower:  130\n",
      "Maximum horsepower:  165\n",
      "CPU times: total: 0 ns\n",
      "Wall time: 0 ns\n"
     ]
    }
   ],
   "source": [
    "%%time\n",
    "\n",
    "#creating a list of 5 horsepower values\n",
    "horsepower = [130, 165, 150, 150, 140]\n",
    "#creating a numpy array from horsepower list\n",
    "horsepower_arr = np.array(horsepower)\n",
    "print(\"Minimum horsepower: \", np.min(horsepower_arr))\n",
    "print(\"Maximum horsepower: \", np.max(horsepower_arr))"
   ]
  },
  {
   "cell_type": "markdown",
   "metadata": {},
   "source": [
    "#### Finding the index of minimun and maximum values:\n",
    "\n",
    "'argmin()' and 'argmax()' return the index of minimum and maximum values in an array respectively.\n"
   ]
  },
  {
   "cell_type": "code",
   "execution_count": 44,
   "metadata": {},
   "outputs": [
    {
     "name": "stdout",
     "output_type": "stream",
     "text": [
      "Index of Minimum horsepower:  0\n",
      "Index of Maximum horsepower:  1\n",
      "CPU times: total: 0 ns\n",
      "Wall time: 1.04 ms\n"
     ]
    }
   ],
   "source": [
    "%%time\n",
    "\n",
    "#creating a list of 5 horsepower values\n",
    "horsepower = [130, 165, 150, 150, 140]\n",
    "#creating a numpy array from horsepower list\n",
    "horsepower_arr = np.array(horsepower)\n",
    "print(\"Index of Minimum horsepower: \", np.argmin(horsepower_arr))\n",
    "print(\"Index of Maximum horsepower: \", np.argmax(horsepower_arr))\n"
   ]
  },
  {
   "cell_type": "markdown",
   "metadata": {},
   "source": [
    "### Querying/searching in an array\n",
    "\n",
    "#### Problem Statement:\n",
    "\n",
    "The engineers at XYZ Custom Cars want to know the horsepower of cars that are greater than or equal to 150.\n",
    "\n",
    "#### Solution:\n",
    "\n",
    "The 'where' function can be used for this requirement. Given a condition,'where' function returns the indexes of the array where the condition satisfies. Using these indexes, the repective values from the array can be obtained.\n"
   ]
  },
  {
   "cell_type": "code",
   "execution_count": 45,
   "metadata": {},
   "outputs": [
    {
     "name": "stdout",
     "output_type": "stream",
     "text": [
      "(array([1, 2, 3], dtype=int64),)\n"
     ]
    },
    {
     "data": {
      "text/plain": [
       "array([165, 150, 150])"
      ]
     },
     "execution_count": 45,
     "metadata": {},
     "output_type": "execute_result"
    }
   ],
   "source": [
    "#creating a list of 5 horsepower values\n",
    "horsepower = [130, 165, 150, 150, 140]\n",
    "#creating a numpy array from horsepower list\n",
    "horsepower_arr = np.array(horsepower)\n",
    "x = np.where(horsepower_arr >= 150)\n",
    "print(x) # gives the indices \n",
    "# With the indices , we can find those values \n",
    "horsepower_arr[x]"
   ]
  },
  {
   "cell_type": "markdown",
   "metadata": {},
   "source": [
    "### Filter Data\n",
    "\n",
    "#### Problem Statement:\n",
    "\n",
    "The Engineers at XYZ Custom Cars want to create a seperate array consisting of filtered values of horsepower greater than 135.\n",
    "\n",
    "#### Solution:\n",
    "\n",
    "Getting some elements out of an existing array based on certain conditions and creating a new array out of them is calling filtering.\n",
    "\n",
    "The following code can be used to accomplish this:\n"
   ]
  },
  {
   "cell_type": "code",
   "execution_count": 47,
   "metadata": {},
   "outputs": [
    {
     "name": "stdout",
     "output_type": "stream",
     "text": [
      "[False  True  True  True  True]\n",
      "[165 150 150 140]\n",
      "CPU times: total: 0 ns\n",
      "Wall time: 0 ns\n"
     ]
    }
   ],
   "source": [
    "%%time\n",
    "\n",
    "#creating a list of 5 horsepower values\n",
    "horsepower = [130, 165, 150, 150, 140]\n",
    "#creating a numpy array from horsepower list\n",
    "horsepower_arr = np.array(horsepower)\n",
    "#creating filter array\n",
    "filter_arr = horsepower_arr > 135\n",
    "newarr = horsepower_arr[filter_arr]\n",
    "print(filter_arr)\n",
    "print(newarr)"
   ]
  },
  {
   "cell_type": "markdown",
   "metadata": {},
   "source": [
    "### Sorting an Array\n",
    "\n",
    "#### Problem Statement:\n",
    "\n",
    "The engineers at XYZ Custom Cars want the horsepower in sorted order.\n",
    "\n",
    "#### Solution:\n",
    "\n",
    "The numpy array can be sorted by passing the array to the function <i>sort(array)</i> or by <i>array.sort</i>.\n",
    "\n",
    "So, what is the difference between these two functions though they are used for same functionality?\n"
   ]
  },
  {
   "cell_type": "code",
   "execution_count": 48,
   "metadata": {},
   "outputs": [
    {
     "name": "stdout",
     "output_type": "stream",
     "text": [
      "original array:  [130 165 150 150 140]\n",
      "Sorted array:  [130 140 150 150 165]\n",
      "original array after sorting:  [130 165 150 150 140]\n"
     ]
    }
   ],
   "source": [
    "#creating a list of 5 horsepower values\n",
    "horsepower = [130, 165, 150, 150, 140]\n",
    "#creating a numpy array from horsepower list\n",
    "horsepower_arr = np.array(horsepower)\n",
    "#using sort(array)\n",
    "print('original array: ', horsepower_arr)\n",
    "print('Sorted array: ', np.sort(horsepower_arr))\n",
    "print('original array after sorting: ', horsepower_arr)"
   ]
  },
  {
   "cell_type": "code",
   "execution_count": 49,
   "metadata": {},
   "outputs": [
    {
     "name": "stdout",
     "output_type": "stream",
     "text": [
      "original array:  [130 165 150 150 140]\n",
      "original array after sorting:  [130 140 150 150 165]\n"
     ]
    }
   ],
   "source": [
    "#creating a list of 5 horsepower values\n",
    "horsepower = [130, 165, 150, 150, 140]\n",
    "#creating a numpy array from horsepower list\n",
    "horsepower_arr = np.array(horsepower)\n",
    "#using sort(array)\n",
    "print('original array: ', horsepower_arr)\n",
    "horsepower_arr.sort()\n",
    "print('original array after sorting: ', horsepower_arr)"
   ]
  },
  {
   "cell_type": "markdown",
   "metadata": {},
   "source": [
    "The difference is that the array.sort() function modifies the original array by default, whereas the sort(array) function does not.\n"
   ]
  },
  {
   "cell_type": "markdown",
   "metadata": {},
   "source": [
    "### Vectorized Operations\n",
    "\n",
    "The mathematical operations can be performed on Numpy arrays. Numpy makes use of optimized, pre-compiled code to perform mathemetical operations on each array element. This eliminates the need of using loops, thereby enhancing the performance. This process is called vectorization.\n",
    "\n",
    "Numpy provides various mathematical functions such as sum(), add(), sub(), log(), sin(), etc. which uses vectorization.\n",
    "\n",
    "Consider an example of marks scored by a student:\n",
    "\n",
    "<table>\n",
    "    <tr>\n",
    "        <th>Subject</th>\n",
    "        <th>Marks</th>\n",
    "    </tr>\n",
    "    <tr>\n",
    "        <td>English</td>\n",
    "        <td>78</td>\n",
    "    </tr>\n",
    "        <tr>\n",
    "        <td>Mathematics</td>\n",
    "        <td>92</td>\n",
    "    </tr>\n",
    "        <tr>\n",
    "        <td>Physics</td>\n",
    "        <td>36</td>\n",
    "    </tr>\n",
    "        <tr>\n",
    "        <td>Chemistry</td>\n",
    "        <td>64</td>\n",
    "    </tr>\n",
    "        <tr>\n",
    "        <td>Biology</td>\n",
    "        <td>89</td>\n",
    "    </tr>\n",
    "</table>\n",
    "\n",
    "#### Problem Statement:\n",
    "\n",
    "Calculate the sum of all the marks.\n",
    "\n",
    "#### Solutions:\n",
    "\n",
    "The sum() function cna be used which internally uses vectorization.\n"
   ]
  },
  {
   "cell_type": "code",
   "execution_count": 50,
   "metadata": {},
   "outputs": [
    {
     "name": "stdout",
     "output_type": "stream",
     "text": [
      "359\n"
     ]
    }
   ],
   "source": [
    "student_marks_arr = np.array([78, 92, 36, 64, 89])\n",
    "print(np.sum(student_marks_arr))"
   ]
  },
  {
   "cell_type": "markdown",
   "metadata": {},
   "source": [
    "#### Problem Statement:\n",
    "\n",
    "Award extra marks in subjects as follows:\n",
    "\n",
    "English: +2\n",
    "Mathematics: +2\n",
    "Physics: +5\n",
    "Chemistry: +10\n",
    "Biology: +2\n",
    "\n",
    "#### Solution\n",
    "\n",
    "Below is the solution to the problem:\n"
   ]
  },
  {
   "cell_type": "code",
   "execution_count": 51,
   "metadata": {},
   "outputs": [
    {
     "data": {
      "text/plain": [
       "array([80, 94, 41, 74, 90])"
      ]
     },
     "execution_count": 51,
     "metadata": {},
     "output_type": "execute_result"
    }
   ],
   "source": [
    "additional_marks = [2, 2, 5, 10, 1]\n",
    "student_marks_arr += additional_marks\n",
    "student_marks_arr"
   ]
  },
  {
   "cell_type": "markdown",
   "metadata": {},
   "source": [
    "Also, the same operation can be performed as shown below:\n"
   ]
  },
  {
   "cell_type": "code",
   "execution_count": 52,
   "metadata": {},
   "outputs": [
    {
     "data": {
      "text/plain": [
       "array([80, 94, 41, 74, 90])"
      ]
     },
     "execution_count": 52,
     "metadata": {},
     "output_type": "execute_result"
    }
   ],
   "source": [
    "student_marks_arr = np.array([78, 92, 36, 64, 89])\n",
    "student_marks_arr = np.add(student_marks_arr, additional_marks)\n",
    "student_marks_arr"
   ]
  },
  {
   "cell_type": "markdown",
   "metadata": {},
   "source": [
    "Both the above methods use vectorization internally eliminating the need of loops.\n",
    "\n",
    "Other arithmetic operations can also be performed in a similar manner.\n",
    "\n",
    "<img src=\"assests/131627370079558.PNG\">\n",
    "\n",
    "In addition to arithmetic operations, several other mathemetical operations like exponents, logarithms and trigonometric functions are also available in Numpy. This makes Numpy a very useful tool for scientific computing.\n"
   ]
  }
 ],
 "metadata": {
  "kernelspec": {
   "display_name": "Python 3",
   "language": "python",
   "name": "python3"
  },
  "language_info": {
   "codemirror_mode": {
    "name": "ipython",
    "version": 3
   },
   "file_extension": ".py",
   "mimetype": "text/x-python",
   "name": "python",
   "nbconvert_exporter": "python",
   "pygments_lexer": "ipython3",
   "version": "3.12.4"
  }
 },
 "nbformat": 4,
 "nbformat_minor": 2
}
