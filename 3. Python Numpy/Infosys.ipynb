{
 "cells": [
  {
   "cell_type": "markdown",
   "metadata": {},
   "source": [
    "## Numpy\n"
   ]
  },
  {
   "cell_type": "markdown",
   "metadata": {},
   "source": [
    "### Revisiting Python List\n",
    "\n",
    "A python List can be used to store a group of elements together in a sequence. It can contain hetrogeneous elements.\n",
    "\n",
    "Following are some examples of List:\n"
   ]
  },
  {
   "cell_type": "code",
   "execution_count": 1,
   "metadata": {},
   "outputs": [],
   "source": [
    "item_list = ['Bread','Milk','Eggs','Butter','Cocoa']\n",
    "student_marks = [78,47,96,55,34]\n",
    "hetero_list = [1, 2, 3.0, 'text', True, 3+2j]"
   ]
  },
  {
   "cell_type": "markdown",
   "metadata": {},
   "source": [
    "To perform operations on the List elements, one needs to iterate through the List. For example, if five extra marks need to be awarded to all the entries in the student marks list. The following approach can be used to achieve the same:\n"
   ]
  },
  {
   "cell_type": "code",
   "execution_count": 2,
   "metadata": {},
   "outputs": [
    {
     "name": "stdout",
     "output_type": "stream",
     "text": [
      "[83, 52, 101, 60, 39]\n"
     ]
    }
   ],
   "source": [
    "student_marks = [78,47,96,55,34]\n",
    "for i in range(len(student_marks)):\n",
    "    student_marks[i]+=5\n",
    "print(student_marks)"
   ]
  },
  {
   "cell_type": "markdown",
   "metadata": {},
   "source": [
    "It can be observed that, there is use of a loop. The code is lengthy and becomes computationally expensive with increase in the size of the List.\n",
    "\n",
    "Data Science is the field that utilizes scientific methods and algorithms to generate insights from the data. These insights can be made actionable and applied across a broad range of application domains. Data Science deals with large datasets. Operating on such data with lists and loops is time consuming and computationally expensive.\n"
   ]
  },
  {
   "cell_type": "markdown",
   "metadata": {},
   "source": [
    "### Comparing Python List and Numpy performance\n"
   ]
  },
  {
   "cell_type": "markdown",
   "metadata": {},
   "source": [
    "Let us understand why Python Lists can become a bottleneck if they are used for large data.\n",
    "\n",
    "Consider that 1 million numbers must be added from two different lists.\n"
   ]
  },
  {
   "cell_type": "code",
   "execution_count": 3,
   "metadata": {},
   "outputs": [
    {
     "name": "stdout",
     "output_type": "stream",
     "text": [
      "CPU times: total: 46.9 ms\n",
      "Wall time: 199 ms\n"
     ]
    }
   ],
   "source": [
    "%%time\n",
    "\n",
    "list1 = list(range(1,1000000))\n",
    "list2 = list(range(2,1000001))\n",
    "\n",
    "list3 =[]\n",
    "\n",
    "for i in range(len(list1)):\n",
    "    list3.append(list1[i] + list2[i])"
   ]
  },
  {
   "cell_type": "markdown",
   "metadata": {},
   "source": [
    "<b>Note:</b> Time taken will be different systems\n",
    "\n",
    "Let us understand, how Numpy can solve the same in minimal time\n",
    "\n",
    "<b>Note: Ignore the syntax and focus on the only the output.</b>\n"
   ]
  },
  {
   "cell_type": "code",
   "execution_count": 13,
   "metadata": {},
   "outputs": [
    {
     "name": "stdout",
     "output_type": "stream",
     "text": [
      "CPU times: total: 0 ns\n",
      "Wall time: 19.7 ms\n"
     ]
    }
   ],
   "source": [
    "%%time\n",
    "\n",
    "import numpy as np\n",
    "\n",
    "a = np.arange(1,1000000)\n",
    "b = np.arange(2,1000001)\n",
    "\n",
    "c = a + b"
   ]
  }
 ],
 "metadata": {
  "kernelspec": {
   "display_name": "Python 3",
   "language": "python",
   "name": "python3"
  },
  "language_info": {
   "codemirror_mode": {
    "name": "ipython",
    "version": 3
   },
   "file_extension": ".py",
   "mimetype": "text/x-python",
   "name": "python",
   "nbconvert_exporter": "python",
   "pygments_lexer": "ipython3",
   "version": "3.12.2"
  }
 },
 "nbformat": 4,
 "nbformat_minor": 2
}
