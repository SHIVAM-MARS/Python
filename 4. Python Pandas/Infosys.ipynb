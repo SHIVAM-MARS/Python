{
 "cells": [
  {
   "cell_type": "markdown",
   "metadata": {},
   "source": [
    "# Pandas"
   ]
  },
  {
   "cell_type": "markdown",
   "metadata": {},
   "source": [
    "## Introduction to Pandas\n",
    "\n",
    "### Introduction to Pandas\n",
    "\n",
    "Pandas is an open-source library for real world data analysis in python. It is built on top of Numpy. Using Pandas, data can be cleaned, transformed, manipulated, and analyzed. It is suited for different kinds of data including tabular as in a SQL table or a Excel spreadsheets, time series data, observational or statistical datasets.\n",
    "\n",
    "The steps involved to perform data analysis using Pandas are as follows:\n",
    "\n",
    "<img src=\"Assests/11627398032146.PNG\">"
   ]
  },
  {
   "cell_type": "markdown",
   "metadata": {},
   "source": [
    "### Steps in data Analysis\n",
    "\n",
    "#### Reading the data\n",
    "\n",
    "The first step is to read the data. There are multiple formats in which data can be obtained such as '.csv', '.json', '.xlsx' etc. \n",
    "\n",
    "Below are the examples:\n",
    "\n",
    "<b>Example of an excel file:</b>\n",
    "\n",
    "<img src=\"Assests/x641627962603383.PNG\">\n",
    "\n",
    "<b>Example of a json (javascript object notation) file:</b>\n",
    "\n",
    "<img src=\"Assests/x611627962355796.PNG\">\n",
    "\n",
    "<b>Example of a csv (comma separated values) file:</b>\n",
    "\n",
    "<img src=\"Assests/x631627962488063.PNG\">"
   ]
  },
  {
   "cell_type": "markdown",
   "metadata": {},
   "source": [
    "### Steps in data Analysis\n",
    "\n",
    "#### Exploring the data\n",
    "\n",
    "The next step is to explore the data. Exploring data helps to:\n",
    "\n",
    "<ul>\n",
    "    <li>know the shape(number of rows and columns) of the data</li>\n",
    "    <li>understand the nature of the data by obtaining subsets of the data</li>\n",
    "    <li>identify missing values and treat them accordingly</li>\n",
    "    <li>get insights about the data using descriptive statistics</li> \n",
    "</ul>\n",
    "\n",
    "#### Performing operations on the data\n",
    "\n",
    "Some of the operations supported by pandas for data manipulation are as follows:\n",
    "\n",
    "<ul>\n",
    "    <li>Grouping operations</li> \n",
    "    <li>Sorting operations</li> \n",
    "    <li>Masking operations</li> \n",
    "    <li>Merging operations</li> \n",
    "    <li>Concatenating operations</li> \n",
    "</ul>\n",
    "\n",
    "#### Visualizing data\n",
    "\n",
    "The next step is to visualize the data to get a clear picture of various relationships among the data. The following plots can help visualize the data:\n",
    "\n",
    "<ul>\n",
    "    <li>Scatter plot</li>\n",
    "    <li>Box plot</li>\n",
    "    <li>Bar plot</li>\n",
    "    <li>Histogram and many more</li>\n",
    "</ul>\n",
    "\n",
    "#### Generating Insights\n",
    "\n",
    "All the above steps help generating insights about our data. "
   ]
  },
  {
   "cell_type": "markdown",
   "metadata": {},
   "source": [
    "### Why Pandas\n",
    "\n",
    "Pandas is one of the most popular data wrangling and analysis tools because it:\n",
    "\n",
    "<ul>\n",
    "    <li>has the capability to load huge sizes of data easily</li>\n",
    "    <li>provides us with extremely streamlined forms of data representation</li>\n",
    "    <li>can handle heterogenous data, has extensive set of data manipulation features and makes data flexible and customizable</li>\n",
    "</ul>"
   ]
  },
  {
   "cell_type": "markdown",
   "metadata": {},
   "source": [
    "## Introduction to Pandas Objects"
   ]
  },
  {
   "cell_type": "markdown",
   "metadata": {},
   "source": [
    "### Getting started with Pandas\n",
    "\n",
    "To get started with Pandas, Numpy and Pandas needs to be imported as shown below:"
   ]
  },
  {
   "cell_type": "code",
   "execution_count": 1,
   "metadata": {},
   "outputs": [],
   "source": [
    "#Importing libraries\n",
    "#python library for numerical and scientific computing. pandas is built on top of numpy\n",
    "import numpy as np \n",
    "#importing pandas\n",
    "import pandas as pd"
   ]
  },
  {
   "cell_type": "markdown",
   "metadata": {},
   "source": [
    "In a nutshell, Pandas objects are advanced versions of NumPy structured arrays in which the rows and columns are identified with labels instead of simple integer indices.\n",
    "\n",
    "The basic data structures of Pandas are Series and DataFrame. "
   ]
  },
  {
   "cell_type": "markdown",
   "metadata": {},
   "source": [
    "### Pandas Series Object\n",
    "\n",
    "Series is one dimensional labelled array. It supports different datatypes like integer, float, string etc. Let us understand more about series with the following example.\n",
    "\n",
    "Consider the scenario where marks of students are given as shown in the following table:\n",
    "\n",
    "<table>\n",
    "    <tr>\n",
    "        <th>Student ID</th>\n",
    "        <th>Marks</th>\n",
    "    </tr>\n",
    "    <tr>\n",
    "        <td>1</td>\n",
    "        <td>78</td>\n",
    "    </tr>\n",
    "    <tr>\n",
    "        <td>1</td>\n",
    "        <td>92</td>\n",
    "    </tr>\n",
    "    <tr>\n",
    "        <td>1</td>\n",
    "        <td>36</td>\n",
    "    </tr>\n",
    "    <tr>\n",
    "        <td>1</td>\n",
    "        <td>64</td>  \n",
    "    </tr>\n",
    "    <tr>\n",
    "        <td>5</td>\n",
    "        <td>89</td>\n",
    "    </tr>     \n",
    "</table>\n",
    "\n",
    "The pandas series object can be used to represent this data in a meaningful manner. Series is created using the following syntax:\n",
    "\n",
    "<b>Syntax:</b>\n",
    "<ul type=\"none\">\n",
    "<li><b>pd.Series(data, index, dtype)</b></li>\n",
    "<li>data – It can be a list, a list of lists or even a dictionary.</li>\n",
    "<li>index – The index can be explicitly defined for different valuesif required.</li>\n",
    "<li>dtype – This represents the data type used in the series (optional parameter).</li>\n",
    "</ul>\n"
   ]
  },
  {
   "cell_type": "code",
   "execution_count": 2,
   "metadata": {},
   "outputs": [
    {
     "data": {
      "text/plain": [
       "0    78\n",
       "1    92\n",
       "2    36\n",
       "3    64\n",
       "4    89\n",
       "dtype: int64"
      ]
     },
     "execution_count": 2,
     "metadata": {},
     "output_type": "execute_result"
    }
   ],
   "source": [
    "series = pd.Series(data = [78, 92, 36, 64, 89])  \n",
    "series"
   ]
  },
  {
   "cell_type": "markdown",
   "metadata": {},
   "source": [
    "As shown in the above output, the series object provides the values along with their index attributes. \n",
    "\n",
    "<b>Series.values</b> provides the values."
   ]
  },
  {
   "cell_type": "code",
   "execution_count": 3,
   "metadata": {},
   "outputs": [
    {
     "data": {
      "text/plain": [
       "array([78, 92, 36, 64, 89], dtype=int64)"
      ]
     },
     "execution_count": 3,
     "metadata": {},
     "output_type": "execute_result"
    }
   ],
   "source": [
    "series.values"
   ]
  },
  {
   "cell_type": "markdown",
   "metadata": {},
   "source": [
    "<b>Series.index</b> provides the index."
   ]
  },
  {
   "cell_type": "code",
   "execution_count": 4,
   "metadata": {},
   "outputs": [
    {
     "data": {
      "text/plain": [
       "RangeIndex(start=0, stop=5, step=1)"
      ]
     },
     "execution_count": 4,
     "metadata": {},
     "output_type": "execute_result"
    }
   ],
   "source": [
    "series.index"
   ]
  },
  {
   "cell_type": "markdown",
   "metadata": {},
   "source": [
    "#### Accessing data in series\n",
    "\n",
    "Data can be accessed by the associated index using [ ]. "
   ]
  },
  {
   "cell_type": "code",
   "execution_count": 5,
   "metadata": {},
   "outputs": [
    {
     "data": {
      "text/plain": [
       "92"
      ]
     },
     "execution_count": 5,
     "metadata": {},
     "output_type": "execute_result"
    }
   ],
   "source": [
    "series[1]"
   ]
  },
  {
   "cell_type": "markdown",
   "metadata": {},
   "source": [
    "#### Slicing a series"
   ]
  },
  {
   "cell_type": "code",
   "execution_count": 6,
   "metadata": {},
   "outputs": [
    {
     "data": {
      "text/plain": [
       "1    92\n",
       "2    36\n",
       "dtype: int64"
      ]
     },
     "execution_count": 6,
     "metadata": {},
     "output_type": "execute_result"
    }
   ],
   "source": [
    "series[1:3]"
   ]
  },
  {
   "cell_type": "markdown",
   "metadata": {},
   "source": [
    "### Custom Index in Series\n",
    "\n",
    "By default, series creates an integer index. The custom index can also be defined. \n",
    "\n",
    "For example, consider the following table containing car details:\n",
    "\n",
    "<table>\n",
    "    <tr>\n",
    "        <th>Car Name</th>\n",
    "        <th>Car Price</th>\n",
    "    </tr>\n",
    "    <tr>\n",
    "        <td>Swift</td>\n",
    "        <td>700000</td>\n",
    "    </tr>\n",
    "    <tr>\n",
    "        <td>Jazz</td>\n",
    "        <td>800000</td>\n",
    "    </tr>\n",
    "    <tr>\n",
    "        <td>Civic</td>\n",
    "        <td>1600000</td>\n",
    "    </tr>\n",
    "    <tr>\n",
    "        <td>Altis</td>\n",
    "        <td>1800000</td>\n",
    "    </tr>\n",
    "    <tr>\n",
    "        <td>Gallardo</td>\n",
    "        <td>30000000</td>\n",
    "    </tr>\n",
    "</table>\n",
    " \n",
    "A Pandas series can be created using the following syntax:"
   ]
  },
  {
   "cell_type": "code",
   "execution_count": 7,
   "metadata": {},
   "outputs": [
    {
     "data": {
      "text/plain": [
       "Swift         700000\n",
       "Jazz          800000\n",
       "Civic        1600000\n",
       "Altis        1800000\n",
       "Gallardo    30000000\n",
       "dtype: int64"
      ]
     },
     "execution_count": 7,
     "metadata": {},
     "output_type": "execute_result"
    }
   ],
   "source": [
    "data = pd.Series(data = [700000, 800000, 1600000, 1800000, 30000000], index = ['Swift', 'Jazz', 'Civic', 'Altis', 'Gallardo'])\n",
    "data\n"
   ]
  },
  {
   "cell_type": "markdown",
   "metadata": {},
   "source": [
    "Values can be accessed as:"
   ]
  },
  {
   "cell_type": "code",
   "execution_count": 8,
   "metadata": {},
   "outputs": [
    {
     "data": {
      "text/plain": [
       "700000"
      ]
     },
     "execution_count": 8,
     "metadata": {},
     "output_type": "execute_result"
    }
   ],
   "source": [
    "data['Swift']"
   ]
  },
  {
   "cell_type": "code",
   "execution_count": 9,
   "metadata": {},
   "outputs": [
    {
     "data": {
      "text/plain": [
       "Jazz          800000\n",
       "Civic        1600000\n",
       "Altis        1800000\n",
       "Gallardo    30000000\n",
       "dtype: int64"
      ]
     },
     "execution_count": 9,
     "metadata": {},
     "output_type": "execute_result"
    }
   ],
   "source": [
    "data['Jazz': 'Gallardo']"
   ]
  },
  {
   "cell_type": "markdown",
   "metadata": {},
   "source": [
    "In this case, observations are that the output starts from Jazz and goes till Gallardo(inclusive). This is the fundamental difference between implicit and explicit indexing."
   ]
  }
 ],
 "metadata": {
  "kernelspec": {
   "display_name": "Python 3",
   "language": "python",
   "name": "python3"
  },
  "language_info": {
   "codemirror_mode": {
    "name": "ipython",
    "version": 3
   },
   "file_extension": ".py",
   "mimetype": "text/x-python",
   "name": "python",
   "nbconvert_exporter": "python",
   "pygments_lexer": "ipython3",
   "version": "3.12.4"
  }
 },
 "nbformat": 4,
 "nbformat_minor": 2
}
